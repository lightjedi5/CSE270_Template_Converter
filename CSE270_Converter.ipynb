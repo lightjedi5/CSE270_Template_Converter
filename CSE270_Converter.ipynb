{
 "cells": [
  {
   "cell_type": "code",
   "execution_count": 1,
   "metadata": {},
   "outputs": [],
   "source": [
    "#Function that will splice the text at a given start string and end string\n",
    "#Will return as a string but omit the start string and the end string\n",
    "def omitStartAndEnd(startString, endString, textString):\n",
    "    newString = \"\"\n",
    "    for i in textString[textString.find(startString) + len(startString): textString.find(endString)]:\n",
    "        newString += i\n",
    "    return newString"
   ]
  },
  {
   "cell_type": "code",
   "execution_count": 2,
   "metadata": {},
   "outputs": [],
   "source": [
    "#Function that will splice the text at a given start string and end string\n",
    "#Will return it as a string and include both the start string and end string\n",
    "def includeStartEndString(startString, endString, textString):\n",
    "    newString = \"\"\n",
    "    for i in textString[textString.find(startString): textString.find(endString) + len(endString)]:\n",
    "        newString += i\n",
    "    return newString"
   ]
  },
  {
   "cell_type": "code",
   "execution_count": 3,
   "metadata": {},
   "outputs": [],
   "source": [
    "#Functiont that will splice the text at a given start and end string\n",
    "#Will return it as a string and include the start string but omit the end string\n",
    "def includeStartOmitEnd(startString, endString, textString):\n",
    "    newString = \"\"\n",
    "    for i in textString[textString.find(startString): textString.find(endString)]:\n",
    "        newString += i\n",
    "    return newString"
   ]
  },
  {
   "cell_type": "code",
   "execution_count": 4,
   "metadata": {},
   "outputs": [],
   "source": [
    "#function that will splice the text at a given start and end string\n",
    "#will return it as a string and omit the beginning but include the end string\n",
    "def omitStartIncludeEnd(startString, endString, textString):\n",
    "    newString = \"\"\n",
    "    for i in textString[textString.find(startString) + len(startString): textString.find(endString) + len(endString)]:\n",
    "        newString += i\n",
    "    return newString"
   ]
  },
  {
   "cell_type": "code",
   "execution_count": 5,
   "metadata": {},
   "outputs": [
    {
     "name": "stdout",
     "output_type": "stream",
     "text": [
      "<p><strong>Notes for Classroom</strong></p><p><strong>Overview</strong></p><p>Being the First week of the semester, student will be focusing on learning the overview of the course, introducing each other, and understanding the topics covered. </p><p>Software Methodologies go by different names from life cycles to model. Software product has different life cycle phase (Req, Design, Implementation, Test, Delivery, O&amp;M), much like a butterfly, it discusses the phases or maturity of development of the product. Software Methodology (Waterfall, Spiral, Agile/XP, CMMI, Formal/Cleanroom)  focuses on the process. The models graphically represent the different perspectives of the combination of methodologies and lifecycles.</p><p>The first methodology is Waterfall, which both introduced Lifecycle and the methodology. As we move through computer development history, we see a separation from the Lifecycle phases and the methods used to transmission through those phases. For example, Agile/XP is all methodology and no lifecycle phases. The lifecycle phases must be done, and any phase can use a different methodology, using Waterfall for Requirements and Design, but during Implementation use Agile, during Testing use Formal/Cleanroom, and switch to Spiral for O&amp;M.</p><p><strong>Objectives</strong></p><p>By the end of the week, each student will be able to: </p><ul><li>Critique the quality of a given article and identify the assumptions on which an author’s conclusions were made</li><li>Recognize the limitations of the “code and fix” methodology</li><li>Identify the types of problems that software models are designed to address</li></ul><p><strong>Before the Week Begins (Prepare)</strong></p><p>Instructor Resources</p><p>Preparation: </p><ul><li>Read required reading</li></ul><p>Partnership/Group work:</p><ul><li>None assigned</li></ul><p><strong>During the Week (Teach)</strong></p><p>CSE 270 is a 3-credit class. 3 hours of class time (Teach). For every hour of class time it is an expectation of the school to have 2 hours of homework. For a total of 9 hours. </p><ul><li>1st Hour: Prepare Material </li><li>2nd Hour: Teach: Introduction Discussion Board</li><li>3rd Hour: In Class: Overview of Course</li><li>4th Hour: Teach: What Software Engineering?</li><li>5th Hour: In Class: Discuss findings from Teach</li><li>6th Hour: Prove: Mobile Application for Home Maintenance Business Plan</li><li>6th Hour: Ponder Reflection Quiz</li></ul><p>Class Room Day 1:</p><ul><li>Hook Activity: <ul><li>Introductions<ul><li>Name, From, Dream job, Favorite Topic found in class</li></ul></li></ul></li><li>Recall: <ul><li>Survey of Favorite Dream jobs</li><li>Survey of Favorite Class Topic</li></ul></li><li>Content <ul><li>Discuss Overview of course</li></ul></li><li>Application </li><li>Next Class<ul><li>What is a Software Engineer?</li></ul></li><li>Success Criteria <ul><li>Class Synthesis</li><li>Post Test</li></ul></li></ul><p>Class Room Day 2:</p><ul><li>Hook Activity: <ul><li>Look up job descriptions for<ul><li>Entry-Level Programmer</li><li>Mid-Level Programmer</li><li>Experience Programmer</li></ul></li></ul></li><li>Recall:</li><li>Content<ul><li>What is a Software Engineer?</li><li>MMM<ul><li>Chapter 1: Tar Pit: What is the tar pit? What is the difference between a Program, System, and Product? What are the joys and woes of the Craft?</li><li>Chapter 2: MMM: Estimation (Poor, Gutless, ..) , Optimism, Man vs Month, Ratio of Work, Scheduling, Adding more people</li></ul></li></ul></li><li>Application:<ul><li>Describe an industry that uses “Code and Fix” (Startups, Mom &amp; Pop Restaurants, Real estate, Food trucks, Brick and Mortar stores, Ebay/Esty, etc). What are somethings that can go wrong (risks), inefficiencies in the product, process, training of people, technology challenges, teamwork. Describe what could do better from your experience with the company</li></ul></li><li>Next Class:</li></ul><p><strong>Post Mortem: </strong></p><p>After each class answer the following questions: </p><ul><li>Key Analysis <ul><li>What key components when well during the class? What didn't? </li></ul></li><li>Class Synthesis <ul><li>What questions did the students ask?</li></ul></li><li>Start (New, Innovation):<ul><li>Tips <ul><li>If you did something differently what would it be?</li></ul></li><li>Aha’s <ul><li>What new ideas did you discover?</li></ul></li></ul></li><li>Stop (What didn’t work):<ul><li>Traps </li><li>What would not be a good idea to do again?</li></ul></li><li>Continue (What worked): <ul><li>Why did the activities work well? Was it the students, the teacher (presenter), the content, or activity?</li></ul></li><li>Humor <ul><li>What was funny about the module? Some you said, students said, etc. that made the class more enjoyable?</li></ul></li></ul><p><strong>Prepare</strong></p><p><strong>Overview</strong></p><p>What are Software Methodologies? Software methodologies are methods to develop software, including life cycle phases and representational models. In this class we are going to cover several of the most common methodologies and help you understand how they affect software engineering, development, and programming. </p><p>One of the first methodologies was simply code and fix. We do this a lot in academia, mostly because the tasks are small and already planned and well tested. Many other fields do the same, such as an artist’s painting a picture, does it look right, nope fix a little there and then paint some more. Another example is a writing a paper, write the first draft and revise, 2nd draft and revise. This goes for any creative process and research and development. This is a natural process of coming up with small units. </p><p>Things get a bit more interesting when you start making larger projects, and adding more people to the mix in developing the ideas into a product that one person can do by themselves. As we proceed into the next couple of weeks we will talk about the risks and mitigation of those risks have arise different methodologies through the history of software engineering.</p><p><strong>Objectives</strong></p><p>By the end of the week, each student will be able to: </p><ul><li>Critique the quality of a given article and identify the assumptions on which an author’s conclusions were made</li><li>Recognize the limitations of the “code and fix” methodology</li><li>Identify the types of problems that software models are designed to address</li></ul><p><strong>Weekly Schedule</strong></p><p><a id=\"_Hlk45122994\"></a>CSE 270 is a 3-credit class. 3 hours of class time (Teach). For every hour of class time it is an expectation of the school to have 2 hours of homework. For a total of 9 hours. </p><ul><li>1st Hour: Prepare Material </li><li>2nd Hour: Teach: Introduction Discussion Board</li><li>3rd Hour: In Class: Overview of Course</li><li>4th Hour: Teach: What Software Engineering?</li><li>5th Hour: In Class: Discuss findings from Teach</li><li>6th Hour: Prove: Mobile Application for Home Maintenance Business Plan</li><li>6th Hour: Ponder Reflection Quiz</li></ul><p><strong>Preparation Material</strong></p><p>In order to be prepare of this module’s activities, please read the following and be prepared to start or complete activities for Teach One Another and Prove assignments.</p><p><strong>Reading</strong></p><ul><li>Software Engineering Book of Knowledge: Chapter 7: Software Engineering Management (15 pages)</li><li>Mythical Man Month Chapter 1: Tar Pit – (6 pages)</li><li>Mythical Man Month Chapter 2: The Mythical Man Month (13 pages)</li></ul><p><strong>Preparation for Teach One Another Discussion</strong></p><ul><li>Go through the reading and relate what the authors talk about verses to your personal experiences. Have you ever used code-n-fix? If so, how did it go and why did you use it?</li><li>Be prepared to use the Software Engineering Book of Knowledge to annotate the Mythical Man Month reading, by answer the following questions:<ul><li>What elements did you find in the reading that is related able to SEBoK and PMBoK?</li><li>What connectivity “ah ha” did you gain from the reading or from other students annotations?</li><li>Identify an element that would be useful in your career as a software engineer, programmer, or other field?</li></ul></li></ul><p><strong>Preparation for Teach One Another Lab</strong></p><ul><li>No Additional Lab Prep for this week</li></ul><p><strong>Preparation for Prove</strong></p><ul><li>No Additional Prove Prep for this week</li></ul><p>Make sure you record your Prepration work in your Ponder assignment.</p><h1>Teach: What Software Engineering?</h1><p><strong>Overview</strong></p><p>Go through the reading and relate what the authors talk about verses to your personal experiences. Have you ever used code-n-fix? If so, how did it work and why did you use it?</p><p><strong>Topics</strong></p><p>You will be using Perusall for this activity, and you should find a link to get into the reading for this week. You will be required to annotate three different in the reading. You can not use the same annotations as your classmate’s, unless otherwise specified. </p><ul><li>Login into Perusall</li><li>Annotate thee different things in the reading, by answering the following three things:<ul><li>What elements did you find in the reading that is relatable to SEBoK and PMBoK?</li><li>What connectivity “ah ha” did you gain from the reading or from other student’s annotations?</li><li>Identify an element that would be useful in your career as a software engineer, programmer, or other field?</li></ul></li></ul><p><strong>Rubric</strong></p><p>Points will be awarded according to the following scale:</p><table><tr><td><p><strong> </strong></p></td><td><p><strong>Exceptional<br />100%</strong></p></td><td><p><strong>Good<br />90%</strong></p></td><td><p><strong>Acceptable<br />70%</strong></p></td><td><p><strong>Developing<br />50%</strong></p></td><td><p><strong>Missing<br />0%</strong></p></td></tr><tr><td><p><strong>Relation to Profession 70%</strong></p></td><td><p>Provided a novel connection that improved understanding of the reading. </p></td><td><p>Provided a non-intuitive relatable connection with explanation.</p></td><td><p>Provided explanation of relatable connection</p></td><td><p>Found easy intuitive relatable connection</p></td><td><p>Used previous connection of another student or didn’t annotate.</p></td></tr><tr><td><p><strong>“Ah-ha” Learning  20%</strong></p></td><td><p>Identified “Ah ha” discovery of learning and how it relates to previous class topics, personal experience, or other non-CS class topics</p></td><td><p>Identified “Ah ha” discovery of learning and how it relates between reading</p></td><td><p>Identified what was learned and description of relevance to reading </p></td><td><p>Highlighted points of interests.  </p></td><td><p>No annotations.</p></td></tr><tr><td><p><strong>Growth Mentality<br />10%</strong></p></td><td><p>Provide a S.M.A.R.T goal on implementing that element in your career</p></td><td><p>Identified element and why it is important </p></td><td><p>Identified a useful element of the profession. </p></td><td><p>A citation is missing where one is needed (plagiarism alert!).</p></td><td><p>No annotation.</p></td></tr></table><p><strong>Prove: Mobile Application for Home Maintenance Business Plan</strong></p><p><strong>Overview</strong></p><p>The Prove activity this week will be to apply the Code &amp; Fix software development methodology to a simulated medium-size project. To accomplish this, three things will be provided: </p><ol><li>a description of the Code &amp; Fix development methodology, </li><li>a description of the scenario to which you will apply the Code &amp; Fix methodology, and </li><li>a description of the assignment expectations</li></ol><p><strong>Backstory</strong></p><p>You are the owner of a small company that solves software problems for companies by contract by contract. (Not a App startup, or COTS).You are currently working on your 1<sup>st</sup> project with your partner (for this week your partner is fictious, in week 03, you will be assigned a partner). You must finish the project in 3 months. Neither of you are familiar with full-scale software development nor the methodologies associated with it. </p><p>You are making a mobile application that keeps track of home maintenance. Banks have found that individual homeowners that make routine maintenance on their home have a less likely of faulting on their loan, and will lower insurance costs. </p><p>You and your partner must make a small business plan for your bank to give you a loan. The bank requires the plan to include meetings, deliverables, specific roles, and reports. </p><p><strong>Instruction</strong></p><p>Small Business plan outline</p><ul><li>Title Page: Home Maintenance Tracker, Company Name</li><li>Section 1<ul><li>Purpose (Given): Bank Associate Nation Keeper, Inc (B.A.N.K.,Inc) desires a mobile application that will keep track of home maintenance. This include keeping track of electricity, appliance upkeep, yard maintenance and periodic cleaning. Much like proper automobile maintenance, it is worth sizeable insurance deduction for the bank who want to pass the savings down to the homeowner to keep the investment from default back to the bank.</li><li>Scope (Given): The application will be an mobile application that will require home owners to update a monthly checklist, to get a discount on their next monthly PITI (Principle, Interest, Taxes, and Insurance). </li><li>Features (Given): The following are examples of types of reporting the application needs to be include in the monthly checklist, but not necessarily checked every month but every 2, 4, 6, 12 months. <ul><li>Home Hardware: Toilets, Sinks, Floors, Wall, Roof, Siding, Concrete </li><li>Home Software: HVAC, Water Heater</li><li>Electronics: Light bulbs, Wall Sockets,  </li><li>Yard: Landscaping, Sprinkler System, Fence, Gutters &amp; Irrigation, Concrete Walkways and Driveways. </li><li>Appliances: Washer, Dryer, Refrigerator, Dishwasher, Stove.</li></ul></li></ul></li><li>Section 2: Meetings<ul><li>Periodically the customer, the bank would like you to have a meeting updating the status. These meeting include stakeholder meetings, Kickoff meetings, Design meetings, and Delivery meetings. Any other meeting would be good to schedule as you so desire. With the meeting you will determine you when and how often you should meet. </li></ul></li><li>Section 4: Deliverable<ul><li>This section should include all deliverable that you will provide as proof of progress and status. </li><li>These meeting can include the following: Design Document, Bug/Peer Reviews, Features, Bug List, Test (Unit/Regression)</li></ul></li><li>Section 5: Checkpoints<ul><li>There are some events that need to be done in order to proceed to the next phase or maturity of a project. </li><li>Identify at least 5 different checkpoints. </li></ul></li><li>Section 6: Schedule<ul><li>Put all the Meetings, Deliverables and Checkpoints  in to a 3-month schedule. </li></ul></li></ul><p><strong>Make it your Own</strong></p><p> As you finish the B.A.N.K.’s Small Business Plan, contemplate on the viability of your plan. Imagine that you really are the owner of this company and you have a significant financial stake in the outcome of this contract. </p><p>Strength of the Plan: Do you feel this plan is viable? Do you think it will make the best use of your available resources? </p><p>Weakness of the Plan: Are there risks this methodology introduces or fails to address?</p><p><strong>Submission</strong></p><p>Please submit a single .DOCX file through I-Learn with your last name as the file name. If your last name is &quot;Smith,&quot; the file name would be Smith_01.docx</p><p><strong>Rubric</strong></p><p>Your grade for this activity will be according to the following rubric:</p><table><tr><td><p><strong> </strong></p></td><td><p><strong>Exceptional<br />100%</strong></p></td><td><p><strong>Good<br />90%</strong></p></td><td><p><strong>Acceptable<br />70%</strong></p></td><td><p><strong>Developing<br />50%</strong></p></td><td><p><strong>Missing<br />0%</strong></p></td></tr><tr><td><p><strong>Plan (80%)</strong></p></td><td><p><strong>Additional content is present found in reading or from experience (marked green/bold)</strong></p></td><td><p><strong>Additional suggested content is present (marked as red/bold)</strong></p></td><td><p>All content in assignment is present</p></td><td><p>All sections are present</p></td><td><p>One or more missing sections (Title, 1, 2, 3, 4, 5 or 6 is missing)</p></td></tr><tr><td><p><strong>Make it Your Own/Reflection<br />10%</strong></p></td><td><p>The reflection cuts to the heart of the strengths and weaknesses of the development methodology.</p></td><td><p>The strengths and weakness of reflect to the methodology and are clearly communicated.</p></td><td><p>Both and more than 1 strength and weakness of the plan </p></td><td><p>Identified 1 strength or 1 weakness of the plan</p></td><td><p>No reflection is present, but just a self-assessment. </p></td></tr><tr><td><p><strong>Professionalism<br />10%</strong></p></td><td><p>The paper is easy to read and ideas are clearly communicated.</p></td><td><p>Everything is properly cited, there are no grammar or spelling errors, and writing style is &quot;professional.&quot;</p></td><td><p>One instance of a spelling error, grammar error, incomplete citation, overly verbose, poor formatting, or poor writing.</p></td><td><p>A citation is missing where one is needed (plagiarism alert!).</p></td><td><p>Gross spelling/grammar errors or other aspects of the writing that make the paper difficult to read.</p></td></tr></table>\n"
     ]
    }
   ],
   "source": [
    "import mammoth\n",
    "fpPrefix = \"C:/Users/jerry/Downloads/\"\n",
    "\n",
    "file = open(fpPrefix+\"Wk01_1.docx\", 'rb')\n",
    "b = open(\"test.html\", 'wb')\n",
    "document = mammoth.convert_to_html(file)\n",
    "html = document.value\n",
    "b.write(html.encode('utf8'))\n",
    "file.close()\n",
    "b.close()\n",
    "print(html)"
   ]
  },
  {
   "cell_type": "code",
   "execution_count": 6,
   "metadata": {},
   "outputs": [
    {
     "name": "stdout",
     "output_type": "stream",
     "text": [
      "False\n"
     ]
    }
   ],
   "source": [
    "#checking to see if html is a list, turns out it is a string\n",
    "print(isinstance(html,list))"
   ]
  },
  {
   "cell_type": "code",
   "execution_count": 7,
   "metadata": {},
   "outputs": [
    {
     "name": "stdout",
     "output_type": "stream",
     "text": [
      "<p><strong>Notes for Classroom</strong>\n",
      "<p><strong>Overview</strong>\n",
      "<p>Being the First week of the semester, student will be focusing on learning the overview of the course, introducing each other, and understanding the topics covered. \n",
      "<p>Software Methodologies go by different names from life cycles to model. Software product has different life cycle phase (Req, Design, Implementation, Test, Delivery, O&amp;M), much like a butterfly, it discusses the phases or maturity of development of the product. Software Methodology (Waterfall, Spiral, Agile/XP, CMMI, Formal/Cleanroom)  focuses on the process. The models graphically represent the different perspectives of the combination of methodologies and lifecycles.\n",
      "<p>The first methodology is Waterfall, which both introduced Lifecycle and the methodology. As we move through computer development history, we see a separation from the Lifecycle phases and the methods used to transmission through those phases. For example, Agile/XP is all methodology and no lifecycle phases. The lifecycle phases must be done, and any phase can use a different methodology, using Waterfall for Requirements and Design, but during Implementation use Agile, during Testing use Formal/Cleanroom, and switch to Spiral for O&amp;M.\n",
      "<p><strong>Objectives</strong>\n",
      "<p>By the end of the week, each student will be able to: \n",
      "<ul><li>Critique the quality of a given article and identify the assumptions on which an author’s conclusions were made</li><li>Recognize the limitations of the “code and fix” methodology</li><li>Identify the types of problems that software models are designed to address</li></ul><p><strong>Before the Week Begins (Prepare)</strong>\n",
      "<p>Instructor Resources\n",
      "<p>Preparation: \n",
      "<ul><li>Read required reading</li></ul><p>Partnership/Group work:\n",
      "<ul><li>None assigned</li></ul><p><strong>During the Week (Teach)</strong>\n",
      "<p>CSE 270 is a 3-credit class. 3 hours of class time (Teach). For every hour of class time it is an expectation of the school to have 2 hours of homework. For a total of 9 hours. \n",
      "<ul><li>1st Hour: Prepare Material </li><li>2nd Hour: Teach: Introduction Discussion Board</li><li>3rd Hour: In Class: Overview of Course</li><li>4th Hour: Teach: What Software Engineering?</li><li>5th Hour: In Class: Discuss findings from Teach</li><li>6th Hour: Prove: Mobile Application for Home Maintenance Business Plan</li><li>6th Hour: Ponder Reflection Quiz</li></ul><p>Class Room Day 1:\n",
      "<ul><li>Hook Activity: <ul><li>Introductions<ul><li>Name, From, Dream job, Favorite Topic found in class</li></ul></li></ul></li><li>Recall: <ul><li>Survey of Favorite Dream jobs</li><li>Survey of Favorite Class Topic</li></ul></li><li>Content <ul><li>Discuss Overview of course</li></ul></li><li>Application </li><li>Next Class<ul><li>What is a Software Engineer?</li></ul></li><li>Success Criteria <ul><li>Class Synthesis</li><li>Post Test</li></ul></li></ul><p>Class Room Day 2:\n",
      "<ul><li>Hook Activity: <ul><li>Look up job descriptions for<ul><li>Entry-Level Programmer</li><li>Mid-Level Programmer</li><li>Experience Programmer</li></ul></li></ul></li><li>Recall:</li><li>Content<ul><li>What is a Software Engineer?</li><li>MMM<ul><li>Chapter 1: Tar Pit: What is the tar pit? What is the difference between a Program, System, and Product? What are the joys and woes of the Craft?</li><li>Chapter 2: MMM: Estimation (Poor, Gutless, ..) , Optimism, Man vs Month, Ratio of Work, Scheduling, Adding more people</li></ul></li></ul></li><li>Application:<ul><li>Describe an industry that uses “Code and Fix” (Startups, Mom &amp; Pop Restaurants, Real estate, Food trucks, Brick and Mortar stores, Ebay/Esty, etc). What are somethings that can go wrong (risks), inefficiencies in the product, process, training of people, technology challenges, teamwork. Describe what could do better from your experience with the company</li></ul></li><li>Next Class:</li></ul><p><strong>Post Mortem: </strong>\n",
      "<p>After each class answer the following questions: \n",
      "<ul><li>Key Analysis <ul><li>What key components when well during the class? What didn't? </li></ul></li><li>Class Synthesis <ul><li>What questions did the students ask?</li></ul></li><li>Start (New, Innovation):<ul><li>Tips <ul><li>If you did something differently what would it be?</li></ul></li><li>Aha’s <ul><li>What new ideas did you discover?</li></ul></li></ul></li><li>Stop (What didn’t work):<ul><li>Traps </li><li>What would not be a good idea to do again?</li></ul></li><li>Continue (What worked): <ul><li>Why did the activities work well? Was it the students, the teacher (presenter), the content, or activity?</li></ul></li><li>Humor <ul><li>What was funny about the module? Some you said, students said, etc. that made the class more enjoyable?</li></ul></li></ul><p><strong>Prepare</strong>\n",
      "<p><strong>Overview</strong>\n",
      "<p>What are Software Methodologies? Software methodologies are methods to develop software, including life cycle phases and representational models. In this class we are going to cover several of the most common methodologies and help you understand how they affect software engineering, development, and programming. \n",
      "<p>One of the first methodologies was simply code and fix. We do this a lot in academia, mostly because the tasks are small and already planned and well tested. Many other fields do the same, such as an artist’s painting a picture, does it look right, nope fix a little there and then paint some more. Another example is a writing a paper, write the first draft and revise, 2nd draft and revise. This goes for any creative process and research and development. This is a natural process of coming up with small units. \n",
      "<p>Things get a bit more interesting when you start making larger projects, and adding more people to the mix in developing the ideas into a product that one person can do by themselves. As we proceed into the next couple of weeks we will talk about the risks and mitigation of those risks have arise different methodologies through the history of software engineering.\n",
      "<p><strong>Objectives</strong>\n",
      "<p>By the end of the week, each student will be able to: \n",
      "<ul><li>Critique the quality of a given article and identify the assumptions on which an author’s conclusions were made</li><li>Recognize the limitations of the “code and fix” methodology</li><li>Identify the types of problems that software models are designed to address</li></ul><p><strong>Weekly Schedule</strong>\n",
      "<p><a id=\"_Hlk45122994\"></a>CSE 270 is a 3-credit class. 3 hours of class time (Teach). For every hour of class time it is an expectation of the school to have 2 hours of homework. For a total of 9 hours. \n",
      "<ul><li>1st Hour: Prepare Material </li><li>2nd Hour: Teach: Introduction Discussion Board</li><li>3rd Hour: In Class: Overview of Course</li><li>4th Hour: Teach: What Software Engineering?</li><li>5th Hour: In Class: Discuss findings from Teach</li><li>6th Hour: Prove: Mobile Application for Home Maintenance Business Plan</li><li>6th Hour: Ponder Reflection Quiz</li></ul><p><strong>Preparation Material</strong>\n",
      "<p>In order to be prepare of this module’s activities, please read the following and be prepared to start or complete activities for Teach One Another and Prove assignments.\n",
      "<p><strong>Reading</strong>\n",
      "<ul><li>Software Engineering Book of Knowledge: Chapter 7: Software Engineering Management (15 pages)</li><li>Mythical Man Month Chapter 1: Tar Pit – (6 pages)</li><li>Mythical Man Month Chapter 2: The Mythical Man Month (13 pages)</li></ul><p><strong>Preparation for Teach One Another Discussion</strong>\n",
      "<ul><li>Go through the reading and relate what the authors talk about verses to your personal experiences. Have you ever used code-n-fix? If so, how did it go and why did you use it?</li><li>Be prepared to use the Software Engineering Book of Knowledge to annotate the Mythical Man Month reading, by answer the following questions:<ul><li>What elements did you find in the reading that is related able to SEBoK and PMBoK?</li><li>What connectivity “ah ha” did you gain from the reading or from other students annotations?</li><li>Identify an element that would be useful in your career as a software engineer, programmer, or other field?</li></ul></li></ul><p><strong>Preparation for Teach One Another Lab</strong>\n",
      "<ul><li>No Additional Lab Prep for this week</li></ul><p><strong>Preparation for Prove</strong>\n",
      "<ul><li>No Additional Prove Prep for this week</li></ul><p>Make sure you record your Prepration work in your Ponder assignment.\n",
      "<h1>Teach: What Software Engineering?</h1><p><strong>Overview</strong>\n",
      "<p>Go through the reading and relate what the authors talk about verses to your personal experiences. Have you ever used code-n-fix? If so, how did it work and why did you use it?\n",
      "<p><strong>Topics</strong>\n",
      "<p>You will be using Perusall for this activity, and you should find a link to get into the reading for this week. You will be required to annotate three different in the reading. You can not use the same annotations as your classmate’s, unless otherwise specified. \n",
      "<ul><li>Login into Perusall</li><li>Annotate thee different things in the reading, by answering the following three things:<ul><li>What elements did you find in the reading that is relatable to SEBoK and PMBoK?</li><li>What connectivity “ah ha” did you gain from the reading or from other student’s annotations?</li><li>Identify an element that would be useful in your career as a software engineer, programmer, or other field?</li></ul></li></ul><p><strong>Rubric</strong>\n",
      "<p>Points will be awarded according to the following scale:\n",
      "<table><tr><td><p><strong> </strong>\n",
      "</td><td><p><strong>Exceptional<br />100%</strong>\n",
      "</td><td><p><strong>Good<br />90%</strong>\n",
      "</td><td><p><strong>Acceptable<br />70%</strong>\n",
      "</td><td><p><strong>Developing<br />50%</strong>\n",
      "</td><td><p><strong>Missing<br />0%</strong>\n",
      "</td></tr><tr><td><p><strong>Relation to Profession 70%</strong>\n",
      "</td><td><p>Provided a novel connection that improved understanding of the reading. \n",
      "</td><td><p>Provided a non-intuitive relatable connection with explanation.\n",
      "</td><td><p>Provided explanation of relatable connection\n",
      "</td><td><p>Found easy intuitive relatable connection\n",
      "</td><td><p>Used previous connection of another student or didn’t annotate.\n",
      "</td></tr><tr><td><p><strong>“Ah-ha” Learning  20%</strong>\n",
      "</td><td><p>Identified “Ah ha” discovery of learning and how it relates to previous class topics, personal experience, or other non-CS class topics\n",
      "</td><td><p>Identified “Ah ha” discovery of learning and how it relates between reading\n",
      "</td><td><p>Identified what was learned and description of relevance to reading \n",
      "</td><td><p>Highlighted points of interests.  \n",
      "</td><td><p>No annotations.\n",
      "</td></tr><tr><td><p><strong>Growth Mentality<br />10%</strong>\n",
      "</td><td><p>Provide a S.M.A.R.T goal on implementing that element in your career\n",
      "</td><td><p>Identified element and why it is important \n",
      "</td><td><p>Identified a useful element of the profession. \n",
      "</td><td><p>A citation is missing where one is needed (plagiarism alert!).\n",
      "</td><td><p>No annotation.\n",
      "</td></tr></table><p><strong>Prove: Mobile Application for Home Maintenance Business Plan</strong>\n",
      "<p><strong>Overview</strong>\n",
      "<p>The Prove activity this week will be to apply the Code &amp; Fix software development methodology to a simulated medium-size project. To accomplish this, three things will be provided: \n",
      "<ol><li>a description of the Code &amp; Fix development methodology, </li><li>a description of the scenario to which you will apply the Code &amp; Fix methodology, and </li><li>a description of the assignment expectations</li></ol><p><strong>Backstory</strong>\n",
      "<p>You are the owner of a small company that solves software problems for companies by contract by contract. (Not a App startup, or COTS).You are currently working on your 1<sup>st</sup> project with your partner (for this week your partner is fictious, in week 03, you will be assigned a partner). You must finish the project in 3 months. Neither of you are familiar with full-scale software development nor the methodologies associated with it. \n",
      "<p>You are making a mobile application that keeps track of home maintenance. Banks have found that individual homeowners that make routine maintenance on their home have a less likely of faulting on their loan, and will lower insurance costs. \n",
      "<p>You and your partner must make a small business plan for your bank to give you a loan. The bank requires the plan to include meetings, deliverables, specific roles, and reports. \n",
      "<p><strong>Instruction</strong>\n",
      "<p>Small Business plan outline\n",
      "<ul><li>Title Page: Home Maintenance Tracker, Company Name</li><li>Section 1<ul><li>Purpose (Given): Bank Associate Nation Keeper, Inc (B.A.N.K.,Inc) desires a mobile application that will keep track of home maintenance. This include keeping track of electricity, appliance upkeep, yard maintenance and periodic cleaning. Much like proper automobile maintenance, it is worth sizeable insurance deduction for the bank who want to pass the savings down to the homeowner to keep the investment from default back to the bank.</li><li>Scope (Given): The application will be an mobile application that will require home owners to update a monthly checklist, to get a discount on their next monthly PITI (Principle, Interest, Taxes, and Insurance). </li><li>Features (Given): The following are examples of types of reporting the application needs to be include in the monthly checklist, but not necessarily checked every month but every 2, 4, 6, 12 months. <ul><li>Home Hardware: Toilets, Sinks, Floors, Wall, Roof, Siding, Concrete </li><li>Home Software: HVAC, Water Heater</li><li>Electronics: Light bulbs, Wall Sockets,  </li><li>Yard: Landscaping, Sprinkler System, Fence, Gutters &amp; Irrigation, Concrete Walkways and Driveways. </li><li>Appliances: Washer, Dryer, Refrigerator, Dishwasher, Stove.</li></ul></li></ul></li><li>Section 2: Meetings<ul><li>Periodically the customer, the bank would like you to have a meeting updating the status. These meeting include stakeholder meetings, Kickoff meetings, Design meetings, and Delivery meetings. Any other meeting would be good to schedule as you so desire. With the meeting you will determine you when and how often you should meet. </li></ul></li><li>Section 4: Deliverable<ul><li>This section should include all deliverable that you will provide as proof of progress and status. </li><li>These meeting can include the following: Design Document, Bug/Peer Reviews, Features, Bug List, Test (Unit/Regression)</li></ul></li><li>Section 5: Checkpoints<ul><li>There are some events that need to be done in order to proceed to the next phase or maturity of a project. </li><li>Identify at least 5 different checkpoints. </li></ul></li><li>Section 6: Schedule<ul><li>Put all the Meetings, Deliverables and Checkpoints  in to a 3-month schedule. </li></ul></li></ul><p><strong>Make it your Own</strong>\n",
      "<p> As you finish the B.A.N.K.’s Small Business Plan, contemplate on the viability of your plan. Imagine that you really are the owner of this company and you have a significant financial stake in the outcome of this contract. \n",
      "<p>Strength of the Plan: Do you feel this plan is viable? Do you think it will make the best use of your available resources? \n",
      "<p>Weakness of the Plan: Are there risks this methodology introduces or fails to address?\n",
      "<p><strong>Submission</strong>\n",
      "<p>Please submit a single .DOCX file through I-Learn with your last name as the file name. If your last name is &quot;Smith,&quot; the file name would be Smith_01.docx\n",
      "<p><strong>Rubric</strong>\n",
      "<p>Your grade for this activity will be according to the following rubric:\n",
      "<table><tr><td><p><strong> </strong>\n",
      "</td><td><p><strong>Exceptional<br />100%</strong>\n",
      "</td><td><p><strong>Good<br />90%</strong>\n",
      "</td><td><p><strong>Acceptable<br />70%</strong>\n",
      "</td><td><p><strong>Developing<br />50%</strong>\n",
      "</td><td><p><strong>Missing<br />0%</strong>\n",
      "</td></tr><tr><td><p><strong>Plan (80%)</strong>\n",
      "</td><td><p><strong>Additional content is present found in reading or from experience (marked green/bold)</strong>\n",
      "</td><td><p><strong>Additional suggested content is present (marked as red/bold)</strong>\n",
      "</td><td><p>All content in assignment is present\n",
      "</td><td><p>All sections are present\n",
      "</td><td><p>One or more missing sections (Title, 1, 2, 3, 4, 5 or 6 is missing)\n",
      "</td></tr><tr><td><p><strong>Make it Your Own/Reflection<br />10%</strong>\n",
      "</td><td><p>The reflection cuts to the heart of the strengths and weaknesses of the development methodology.\n",
      "</td><td><p>The strengths and weakness of reflect to the methodology and are clearly communicated.\n",
      "</td><td><p>Both and more than 1 strength and weakness of the plan \n",
      "</td><td><p>Identified 1 strength or 1 weakness of the plan\n",
      "</td><td><p>No reflection is present, but just a self-assessment. \n",
      "</td></tr><tr><td><p><strong>Professionalism<br />10%</strong>\n",
      "</td><td><p>The paper is easy to read and ideas are clearly communicated.\n",
      "</td><td><p>Everything is properly cited, there are no grammar or spelling errors, and writing style is &quot;professional.&quot;\n",
      "</td><td><p>One instance of a spelling error, grammar error, incomplete citation, overly verbose, poor formatting, or poor writing.\n",
      "</td><td><p>A citation is missing where one is needed (plagiarism alert!).\n",
      "</td><td><p>Gross spelling/grammar errors or other aspects of the writing that make the paper difficult to read.\n",
      "</td></tr></table>\n"
     ]
    }
   ],
   "source": [
    "htmlList = html.split(\"</p>\")\n",
    "for i in htmlList:\n",
    "    print(i)"
   ]
  },
  {
   "cell_type": "code",
   "execution_count": 8,
   "metadata": {},
   "outputs": [
    {
     "name": "stdout",
     "output_type": "stream",
     "text": [
      "Result = 11301 \n",
      " EndResult = 17781\n"
     ]
    }
   ],
   "source": [
    "substring = \"<strong>Prove:\" # string that is suppose to be found\n",
    "result = html.find(substring)\n",
    "#print(result)\n",
    "Esubstring = \"</table>\"\n",
    "EndResult = html.find(Esubstring, result)\n",
    "print(\"Result = {} \\n EndResult = {}\".format(result,EndResult)) "
   ]
  },
  {
   "cell_type": "code",
   "execution_count": 9,
   "metadata": {},
   "outputs": [
    {
     "name": "stdout",
     "output_type": "stream",
     "text": [
      "<strong>Prove: Mobile Application for Home Maintenance Business Plan</strong></p><p><strong>Overview</strong></p><p>The Prove activity this week will be to apply the Code &amp; Fix software development methodology to a simulated medium-size project. To accomplish this, three things will be provided: </p><ol><li>a description of the Code &amp; Fix development methodology, </li><li>a description of the scenario to which you will apply the Code &amp; Fix methodology, and </li><li>a description of the assignment expectations</li></ol><p><strong>Backstory</strong></p><p>You are the owner of a small company that solves software problems for companies by contract by contract. (Not a App startup, or COTS).You are currently working on your 1<sup>st</sup> project with your partner (for this week your partner is fictious, in week 03, you will be assigned a partner). You must finish the project in 3 months. Neither of you are familiar with full-scale software development nor the methodologies associated with it. </p><p>You are making a mobile application that keeps track of home maintenance. Banks have found that individual homeowners that make routine maintenance on their home have a less likely of faulting on their loan, and will lower insurance costs. </p><p>You and your partner must make a small business plan for your bank to give you a loan. The bank requires the plan to include meetings, deliverables, specific roles, and reports. </p><p><strong>Instruction</strong></p><p>Small Business plan outline</p><ul><li>Title Page: Home Maintenance Tracker, Company Name</li><li>Section 1<ul><li>Purpose (Given): Bank Associate Nation Keeper, Inc (B.A.N.K.,Inc) desires a mobile application that will keep track of home maintenance. This include keeping track of electricity, appliance upkeep, yard maintenance and periodic cleaning. Much like proper automobile maintenance, it is worth sizeable insurance deduction for the bank who want to pass the savings down to the homeowner to keep the investment from default back to the bank.</li><li>Scope (Given): The application will be an mobile application that will require home owners to update a monthly checklist, to get a discount on their next monthly PITI (Principle, Interest, Taxes, and Insurance). </li><li>Features (Given): The following are examples of types of reporting the application needs to be include in the monthly checklist, but not necessarily checked every month but every 2, 4, 6, 12 months. <ul><li>Home Hardware: Toilets, Sinks, Floors, Wall, Roof, Siding, Concrete </li><li>Home Software: HVAC, Water Heater</li><li>Electronics: Light bulbs, Wall Sockets,  </li><li>Yard: Landscaping, Sprinkler System, Fence, Gutters &amp; Irrigation, Concrete Walkways and Driveways. </li><li>Appliances: Washer, Dryer, Refrigerator, Dishwasher, Stove.</li></ul></li></ul></li><li>Section 2: Meetings<ul><li>Periodically the customer, the bank would like you to have a meeting updating the status. These meeting include stakeholder meetings, Kickoff meetings, Design meetings, and Delivery meetings. Any other meeting would be good to schedule as you so desire. With the meeting you will determine you when and how often you should meet. </li></ul></li><li>Section 4: Deliverable<ul><li>This section should include all deliverable that you will provide as proof of progress and status. </li><li>These meeting can include the following: Design Document, Bug/Peer Reviews, Features, Bug List, Test (Unit/Regression)</li></ul></li><li>Section 5: Checkpoints<ul><li>There are some events that need to be done in order to proceed to the next phase or maturity of a project. </li><li>Identify at least 5 different checkpoints. </li></ul></li><li>Section 6: Schedule<ul><li>Put all the Meetings, Deliverables and Checkpoints  in to a 3-month schedule. </li></ul></li></ul><p><strong>Make it your Own</strong></p><p> As you finish the B.A.N.K.’s Small Business Plan, contemplate on the viability of your plan. Imagine that you really are the owner of this company and you have a significant financial stake in the outcome of this contract. </p><p>Strength of the Plan: Do you feel this plan is viable? Do you think it will make the best use of your available resources? </p><p>Weakness of the Plan: Are there risks this methodology introduces or fails to address?</p><p><strong>Submission</strong></p><p>Please submit a single .DOCX file through I-Learn with your last name as the file name. If your last name is &quot;Smith,&quot; the file name would be Smith_01.docx</p><p><strong>Rubric</strong></p><p>Your grade for this activity will be according to the following rubric:</p><table><tr><td><p><strong> </strong></p></td><td><p><strong>Exceptional<br />100%</strong></p></td><td><p><strong>Good<br />90%</strong></p></td><td><p><strong>Acceptable<br />70%</strong></p></td><td><p><strong>Developing<br />50%</strong></p></td><td><p><strong>Missing<br />0%</strong></p></td></tr><tr><td><p><strong>Plan (80%)</strong></p></td><td><p><strong>Additional content is present found in reading or from experience (marked green/bold)</strong></p></td><td><p><strong>Additional suggested content is present (marked as red/bold)</strong></p></td><td><p>All content in assignment is present</p></td><td><p>All sections are present</p></td><td><p>One or more missing sections (Title, 1, 2, 3, 4, 5 or 6 is missing)</p></td></tr><tr><td><p><strong>Make it Your Own/Reflection<br />10%</strong></p></td><td><p>The reflection cuts to the heart of the strengths and weaknesses of the development methodology.</p></td><td><p>The strengths and weakness of reflect to the methodology and are clearly communicated.</p></td><td><p>Both and more than 1 strength and weakness of the plan </p></td><td><p>Identified 1 strength or 1 weakness of the plan</p></td><td><p>No reflection is present, but just a self-assessment. </p></td></tr><tr><td><p><strong>Professionalism<br />10%</strong></p></td><td><p>The paper is easy to read and ideas are clearly communicated.</p></td><td><p>Everything is properly cited, there are no grammar or spelling errors, and writing style is &quot;professional.&quot;</p></td><td><p>One instance of a spelling error, grammar error, incomplete citation, overly verbose, poor formatting, or poor writing.</p></td><td><p>A citation is missing where one is needed (plagiarism alert!).</p></td><td><p>Gross spelling/grammar errors or other aspects of the writing that make the paper difficult to read.</p></td></tr></table>\n"
     ]
    }
   ],
   "source": [
    "proveList = \"\"\n",
    "for i in html[result:]:\n",
    "    proveList += i\n",
    "\n",
    "print(proveList)"
   ]
  },
  {
   "cell_type": "code",
   "execution_count": 10,
   "metadata": {},
   "outputs": [
    {
     "name": "stdout",
     "output_type": "stream",
     "text": [
      "<p>The Prove activity this week will be to apply the Code &amp; Fix software development methodology to a simulated medium-size project. To accomplish this, three things will be provided: </p><ol><li>a description of the Code &amp; Fix development methodology, </li><li>a description of the scenario to which you will apply the Code &amp; Fix methodology, and </li><li>a description of the assignment expectations</li></ol>\n"
     ]
    }
   ],
   "source": [
    "overviewString = \"\"\n",
    "startString = \"<p><strong>Overview</strong></p>\"\n",
    "endString = \"<p><strong>Backstory\"\n",
    "\n",
    "result = proveList.find(startString)\n",
    "EndResult = proveList.find(endString, result)\n",
    "\n",
    "for i in proveList[ proveList.find(startString) + len(startString): proveList.find(endString, result)]:\n",
    "    overviewString += i\n",
    "print(overviewString)"
   ]
  },
  {
   "cell_type": "code",
   "execution_count": 11,
   "metadata": {},
   "outputs": [
    {
     "name": "stdout",
     "output_type": "stream",
     "text": [
      "<p>The Prove activity this week will be to apply the Code &amp; Fix software development methodology to a simulated medium-size project. To accomplish this, three things will be provided: </p><ol><li>a description of the Code &amp; Fix development methodology, </li><li>a description of the scenario to which you will apply the Code &amp; Fix methodology, and </li><li>a description of the assignment expectations</li></ol>\n"
     ]
    }
   ],
   "source": [
    "overviewString = omitStartAndEnd(\"<p><strong>Overview</strong></p>\",\"<p><strong>Backstory\",proveList)\n",
    "print(overviewString)"
   ]
  },
  {
   "cell_type": "code",
   "execution_count": 12,
   "metadata": {},
   "outputs": [
    {
     "name": "stdout",
     "output_type": "stream",
     "text": [
      "<p>You are the owner of a small company that solves software problems for companies by contract by contract. (Not a App startup, or COTS).You are currently working on your 1<sup>st</sup> project with your partner (for this week your partner is fictious, in week 03, you will be assigned a partner). You must finish the project in 3 months. Neither of you are familiar with full-scale software development nor the methodologies associated with it. </p><p>You are making a mobile application that keeps track of home maintenance. Banks have found that individual homeowners that make routine maintenance on their home have a less likely of faulting on their loan, and will lower insurance costs. </p><p>You and your partner must make a small business plan for your bank to give you a loan. The bank requires the plan to include meetings, deliverables, specific roles, and reports. </p>\n"
     ]
    }
   ],
   "source": [
    "backstoryString = omitStartAndEnd(\"<p><strong>Backstory</strong></p>\", \"<p><strong>Instruction</strong></p>\", proveList)\n",
    "print(backstoryString)"
   ]
  },
  {
   "cell_type": "code",
   "execution_count": 13,
   "metadata": {},
   "outputs": [
    {
     "name": "stdout",
     "output_type": "stream",
     "text": [
      "<p>Small Business plan outline</p><ul><li>Title Page: Home Maintenance Tracker, Company Name</li><li>Section 1<ul><li>Purpose (Given): Bank Associate Nation Keeper, Inc (B.A.N.K.,Inc) desires a mobile application that will keep track of home maintenance. This include keeping track of electricity, appliance upkeep, yard maintenance and periodic cleaning. Much like proper automobile maintenance, it is worth sizeable insurance deduction for the bank who want to pass the savings down to the homeowner to keep the investment from default back to the bank.</li><li>Scope (Given): The application will be an mobile application that will require home owners to update a monthly checklist, to get a discount on their next monthly PITI (Principle, Interest, Taxes, and Insurance). </li><li>Features (Given): The following are examples of types of reporting the application needs to be include in the monthly checklist, but not necessarily checked every month but every 2, 4, 6, 12 months. <ul><li>Home Hardware: Toilets, Sinks, Floors, Wall, Roof, Siding, Concrete </li><li>Home Software: HVAC, Water Heater</li><li>Electronics: Light bulbs, Wall Sockets,  </li><li>Yard: Landscaping, Sprinkler System, Fence, Gutters &amp; Irrigation, Concrete Walkways and Driveways. </li><li>Appliances: Washer, Dryer, Refrigerator, Dishwasher, Stove.</li></ul></li></ul></li><li>Section 2: Meetings<ul><li>Periodically the customer, the bank would like you to have a meeting updating the status. These meeting include stakeholder meetings, Kickoff meetings, Design meetings, and Delivery meetings. Any other meeting would be good to schedule as you so desire. With the meeting you will determine you when and how often you should meet. </li></ul></li><li>Section 4: Deliverable<ul><li>This section should include all deliverable that you will provide as proof of progress and status. </li><li>These meeting can include the following: Design Document, Bug/Peer Reviews, Features, Bug List, Test (Unit/Regression)</li></ul></li><li>Section 5: Checkpoints<ul><li>There are some events that need to be done in order to proceed to the next phase or maturity of a project. </li><li>Identify at least 5 different checkpoints. </li></ul></li><li>Section 6: Schedule<ul><li>Put all the Meetings, Deliverables and Checkpoints  in to a 3-month schedule. </li></ul></li></ul>\n"
     ]
    }
   ],
   "source": [
    "instructionsString = omitStartAndEnd(\"<p><strong>Instruction</strong></p>\", \"<p><strong>Make it your Own</strong></p>\", proveList)\n",
    "print(instructionsString)"
   ]
  },
  {
   "cell_type": "code",
   "execution_count": 14,
   "metadata": {},
   "outputs": [
    {
     "name": "stdout",
     "output_type": "stream",
     "text": [
      "<p> As you finish the B.A.N.K.’s Small Business Plan, contemplate on the viability of your plan. Imagine that you really are the owner of this company and you have a significant financial stake in the outcome of this contract. </p><p>Strength of the Plan: Do you feel this plan is viable? Do you think it will make the best use of your available resources? </p><p>Weakness of the Plan: Are there risks this methodology introduces or fails to address?</p>\n"
     ]
    }
   ],
   "source": [
    "makeityourownString = omitStartAndEnd(\"<p><strong>Make it your Own</strong></p>\", \"<p><strong>Submission</strong></p>\", proveList)\n",
    "print(makeityourownString)"
   ]
  },
  {
   "cell_type": "code",
   "execution_count": 15,
   "metadata": {},
   "outputs": [
    {
     "name": "stdout",
     "output_type": "stream",
     "text": [
      "<p>Please submit a single .DOCX file through I-Learn with your last name as the file name. If your last name is &quot;Smith,&quot; the file name would be Smith_01.docx</p>\n"
     ]
    }
   ],
   "source": [
    "submissionString = omitStartAndEnd(\"<p><strong>Submission</strong></p>\", \"<p><strong>Rubric</strong></p>\", proveList)\n",
    "print(submissionString)"
   ]
  },
  {
   "cell_type": "code",
   "execution_count": 16,
   "metadata": {},
   "outputs": [
    {
     "name": "stdout",
     "output_type": "stream",
     "text": [
      "<p>Your grade for this activity will be according to the following rubric:</p><table><tr><td><p><strong> </strong></p></td><td><p><strong>Exceptional<br />100%</strong></p></td><td><p><strong>Good<br />90%</strong></p></td><td><p><strong>Acceptable<br />70%</strong></p></td><td><p><strong>Developing<br />50%</strong></p></td><td><p><strong>Missing<br />0%</strong></p></td></tr><tr><td><p><strong>Plan (80%)</strong></p></td><td><p><strong>Additional content is present found in reading or from experience (marked green/bold)</strong></p></td><td><p><strong>Additional suggested content is present (marked as red/bold)</strong></p></td><td><p>All content in assignment is present</p></td><td><p>All sections are present</p></td><td><p>One or more missing sections (Title, 1, 2, 3, 4, 5 or 6 is missing)</p></td></tr><tr><td><p><strong>Make it Your Own/Reflection<br />10%</strong></p></td><td><p>The reflection cuts to the heart of the strengths and weaknesses of the development methodology.</p></td><td><p>The strengths and weakness of reflect to the methodology and are clearly communicated.</p></td><td><p>Both and more than 1 strength and weakness of the plan </p></td><td><p>Identified 1 strength or 1 weakness of the plan</p></td><td><p>No reflection is present, but just a self-assessment. </p></td></tr><tr><td><p><strong>Professionalism<br />10%</strong></p></td><td><p>The paper is easy to read and ideas are clearly communicated.</p></td><td><p>Everything is properly cited, there are no grammar or spelling errors, and writing style is &quot;professional.&quot;</p></td><td><p>One instance of a spelling error, grammar error, incomplete citation, overly verbose, poor formatting, or poor writing.</p></td><td><p>A citation is missing where one is needed (plagiarism alert!).</p></td><td><p>Gross spelling/grammar errors or other aspects of the writing that make the paper difficult to read.</p></td></tr>\n"
     ]
    }
   ],
   "source": [
    "rubricString = omitStartAndEnd(\"<p><strong>Rubric</strong></p>\", \"</table>\", proveList)\n",
    "print(rubricString)"
   ]
  },
  {
   "cell_type": "code",
   "execution_count": 17,
   "metadata": {},
   "outputs": [
    {
     "name": "stdout",
     "output_type": "stream",
     "text": [
      "Result = 4824 \n",
      " EndResult = 8587\n"
     ]
    }
   ],
   "source": [
    "substring = \"<strong>Prepare\" # string that is suppose to be found\n",
    "result = html.find(substring)\n",
    "#print(result)\n",
    "Esubstring = \"Ponder assignment.\"\n",
    "EndResult = html.find(Esubstring, result)\n",
    "print(\"Result = {} \\n EndResult = {}\".format(result,EndResult)) "
   ]
  },
  {
   "cell_type": "code",
   "execution_count": 18,
   "metadata": {},
   "outputs": [
    {
     "name": "stdout",
     "output_type": "stream",
     "text": [
      "<strong>Prepare</strong></p><p><strong>Overview</strong></p><p>What are Software Methodologies? Software methodologies are methods to develop software, including life cycle phases and representational models. In this class we are going to cover several of the most common methodologies and help you understand how they affect software engineering, development, and programming. </p><p>One of the first methodologies was simply code and fix. We do this a lot in academia, mostly because the tasks are small and already planned and well tested. Many other fields do the same, such as an artist’s painting a picture, does it look right, nope fix a little there and then paint some more. Another example is a writing a paper, write the first draft and revise, 2nd draft and revise. This goes for any creative process and research and development. This is a natural process of coming up with small units. </p><p>Things get a bit more interesting when you start making larger projects, and adding more people to the mix in developing the ideas into a product that one person can do by themselves. As we proceed into the next couple of weeks we will talk about the risks and mitigation of those risks have arise different methodologies through the history of software engineering.</p><p><strong>Objectives</strong></p><p>By the end of the week, each student will be able to: </p><ul><li>Critique the quality of a given article and identify the assumptions on which an author’s conclusions were made</li><li>Recognize the limitations of the “code and fix” methodology</li><li>Identify the types of problems that software models are designed to address</li></ul><p><strong>Weekly Schedule</strong></p><p><a id=\"_Hlk45122994\"></a>CSE 270 is a 3-credit class. 3 hours of class time (Teach). For every hour of class time it is an expectation of the school to have 2 hours of homework. For a total of 9 hours. </p><ul><li>1st Hour: Prepare Material </li><li>2nd Hour: Teach: Introduction Discussion Board</li><li>3rd Hour: In Class: Overview of Course</li><li>4th Hour: Teach: What Software Engineering?</li><li>5th Hour: In Class: Discuss findings from Teach</li><li>6th Hour: Prove: Mobile Application for Home Maintenance Business Plan</li><li>6th Hour: Ponder Reflection Quiz</li></ul><p><strong>Preparation Material</strong></p><p>In order to be prepare of this module’s activities, please read the following and be prepared to start or complete activities for Teach One Another and Prove assignments.</p><p><strong>Reading</strong></p><ul><li>Software Engineering Book of Knowledge: Chapter 7: Software Engineering Management (15 pages)</li><li>Mythical Man Month Chapter 1: Tar Pit – (6 pages)</li><li>Mythical Man Month Chapter 2: The Mythical Man Month (13 pages)</li></ul><p><strong>Preparation for Teach One Another Discussion</strong></p><ul><li>Go through the reading and relate what the authors talk about verses to your personal experiences. Have you ever used code-n-fix? If so, how did it go and why did you use it?</li><li>Be prepared to use the Software Engineering Book of Knowledge to annotate the Mythical Man Month reading, by answer the following questions:<ul><li>What elements did you find in the reading that is related able to SEBoK and PMBoK?</li><li>What connectivity “ah ha” did you gain from the reading or from other students annotations?</li><li>Identify an element that would be useful in your career as a software engineer, programmer, or other field?</li></ul></li></ul><p><strong>Preparation for Teach One Another Lab</strong></p><ul><li>No Additional Lab Prep for this week</li></ul><p><strong>Preparation for Prove</strong></p><ul><li>No Additional Prove Prep for this week</li></ul><p>Make sure you record your Prepration work in your Ponder assignment.\n"
     ]
    }
   ],
   "source": [
    "prepareList = \"\"\n",
    "for i in html[result:EndResult + len(Esubstring)]:\n",
    "    prepareList += i\n",
    "\n",
    "#prepareList += Esubstring\n",
    "print(prepareList)"
   ]
  },
  {
   "cell_type": "code",
   "execution_count": 19,
   "metadata": {},
   "outputs": [
    {
     "name": "stdout",
     "output_type": "stream",
     "text": [
      "<!doctype html>\n",
      "<html>\n",
      "<head>\n",
      "    <meta charset=\"UTF-8\">\n",
      "    <meta name=\"viewport\" content=\"width=device-width, initial-scale=1.0\">\n",
      "    <meta http-equiv=\"X-UA-Compatible\" content=\"ie=edge\">\n",
      "    <link rel=\"stylesheet\" type=\"text/css\" href=\"../site/style.css\" />\n",
      "    <title>Prove M0X: Weekly Topic</title>\n",
      "</head>\n",
      "\n",
      "<body>\n",
      "<header id=\"courseTitle\">\n",
      "        <span class=\"icon-byui-logo\"></span>\n",
      "        <h1>Prove M0X: Weekly Topic</h1>\n",
      "    </header>\n",
      "<article>\n",
      "  <h1>Prove: Title</h1>\n",
      "  <h2>Overview</h2>\n",
      "\t<p>Description</p>\n",
      "  <h2>Backstory</h2>\n",
      "\t<p>Story</p>\n",
      "  <h2>Instruction</h2>\n",
      "\t<p>&nbsp;</p>\n",
      "  <h2>Make it your Own</h2>\n",
      "\t<p>&nbsp;</p>\n",
      "  <h2>Submission</h2>\n",
      "\t<p>&nbsp;</p>\n",
      "\t<h2>Rubric</h2>\n",
      "</article>\n",
      "\t\n",
      "</body>\n",
      "</html>\n",
      "\n"
     ]
    }
   ],
   "source": [
    "#importing template\n",
    "proveFile = \"C:/Users/jerry/OneDrive/Documents/Clements/CSE270ProveTemplate.html\"\n",
    "\n",
    "proveTemplate = open(proveFile, 'rt')\n",
    "proveTemplateList = proveTemplate.read()\n",
    "print(proveTemplateList)\n",
    "#print(proveTemplate.read())\n"
   ]
  },
  {
   "cell_type": "code",
   "execution_count": 22,
   "metadata": {},
   "outputs": [
    {
     "name": "stdout",
     "output_type": "stream",
     "text": [
      "<!doctype html>\n",
      "<html>\n",
      "<head>\n",
      "    <meta charset=\"UTF-8\">\n",
      "    <meta name=\"viewport\" content=\"width=device-width, initial-scale=1.0\">\n",
      "    <meta http-equiv=\"X-UA-Compatible\" content=\"ie=edge\">\n",
      "    <link rel=\"stylesheet\" type=\"text/css\" href=\"../site/style.css\" />\n",
      "    <title>Prove 01: Weekly Topic</title>\n",
      "</head>\n",
      "\n",
      "<body>\n",
      "<header id=\"courseTitle\">\n",
      "        <span class=\"icon-byui-logo\"></span>\n",
      "        <h1>Prove 01: Weekly Topic</h1>\n",
      "    </header>\n",
      "<article>\n",
      "  <h1>Prove: Title</h1>\n",
      "  <h2>Overview</h2>\n",
      "\t<p>The Prove activity this week will be to apply the Code &amp; Fix software development methodology to a simulated medium-size project. To accomplish this, three things will be provided: </p><ol><li>a description of the Code &amp; Fix development methodology, </li><li>a description of the scenario to which you will apply the Code &amp; Fix methodology, and </li><li>a description of the assignment expectations</li></ol>\n",
      "  <h2>Backstory</h2>\n",
      "\t<p>You are the owner of a small company that solves software problems for companies by contract by contract. (Not a App startup, or COTS).You are currently working on your 1<sup>st</sup> project with your partner (for this week your partner is fictious, in week 03, you will be assigned a partner). You must finish the project in 3 months. Neither of you are familiar with full-scale software development nor the methodologies associated with it. </p><p>You are making a mobile application that keeps track of home maintenance. Banks have found that individual homeowners that make routine maintenance on their home have a less likely of faulting on their loan, and will lower insurance costs. </p><p>You and your partner must make a small business plan for your bank to give you a loan. The bank requires the plan to include meetings, deliverables, specific roles, and reports. </p>\n",
      "  <h2>Instruction</h2>\n",
      "\t<p>Small Business plan outline</p><ul><li>Title Page: Home Maintenance Tracker, Company Name</li><li>Section 1<ul><li>Purpose (Given): Bank Associate Nation Keeper, Inc (B.A.N.K.,Inc) desires a mobile application that will keep track of home maintenance. This include keeping track of electricity, appliance upkeep, yard maintenance and periodic cleaning. Much like proper automobile maintenance, it is worth sizeable insurance deduction for the bank who want to pass the savings down to the homeowner to keep the investment from default back to the bank.</li><li>Scope (Given): The application will be an mobile application that will require home owners to update a monthly checklist, to get a discount on their next monthly PITI (Principle, Interest, Taxes, and Insurance). </li><li>Features (Given): The following are examples of types of reporting the application needs to be include in the monthly checklist, but not necessarily checked every month but every 2, 4, 6, 12 months. <ul><li>Home Hardware: Toilets, Sinks, Floors, Wall, Roof, Siding, Concrete </li><li>Home Software: HVAC, Water Heater</li><li>Electronics: Light bulbs, Wall Sockets,  </li><li>Yard: Landscaping, Sprinkler System, Fence, Gutters &amp; Irrigation, Concrete Walkways and Driveways. </li><li>Appliances: Washer, Dryer, Refrigerator, Dishwasher, Stove.</li></ul></li></ul></li><li>Section 2: Meetings<ul><li>Periodically the customer, the bank would like you to have a meeting updating the status. These meeting include stakeholder meetings, Kickoff meetings, Design meetings, and Delivery meetings. Any other meeting would be good to schedule as you so desire. With the meeting you will determine you when and how often you should meet. </li></ul></li><li>Section 4: Deliverable<ul><li>This section should include all deliverable that you will provide as proof of progress and status. </li><li>These meeting can include the following: Design Document, Bug/Peer Reviews, Features, Bug List, Test (Unit/Regression)</li></ul></li><li>Section 5: Checkpoints<ul><li>There are some events that need to be done in order to proceed to the next phase or maturity of a project. </li><li>Identify at least 5 different checkpoints. </li></ul></li><li>Section 6: Schedule<ul><li>Put all the Meetings, Deliverables and Checkpoints  in to a 3-month schedule. </li></ul></li></ul>\n",
      "  <h2>Make it your Own</h2>\n",
      "\t<p>Small Business plan outline</p><ul><li>Title Page: Home Maintenance Tracker, Company Name</li><li>Section 1<ul><li>Purpose (Given): Bank Associate Nation Keeper, Inc (B.A.N.K.,Inc) desires a mobile application that will keep track of home maintenance. This include keeping track of electricity, appliance upkeep, yard maintenance and periodic cleaning. Much like proper automobile maintenance, it is worth sizeable insurance deduction for the bank who want to pass the savings down to the homeowner to keep the investment from default back to the bank.</li><li>Scope (Given): The application will be an mobile application that will require home owners to update a monthly checklist, to get a discount on their next monthly PITI (Principle, Interest, Taxes, and Insurance). </li><li>Features (Given): The following are examples of types of reporting the application needs to be include in the monthly checklist, but not necessarily checked every month but every 2, 4, 6, 12 months. <ul><li>Home Hardware: Toilets, Sinks, Floors, Wall, Roof, Siding, Concrete </li><li>Home Software: HVAC, Water Heater</li><li>Electronics: Light bulbs, Wall Sockets,  </li><li>Yard: Landscaping, Sprinkler System, Fence, Gutters &amp; Irrigation, Concrete Walkways and Driveways. </li><li>Appliances: Washer, Dryer, Refrigerator, Dishwasher, Stove.</li></ul></li></ul></li><li>Section 2: Meetings<ul><li>Periodically the customer, the bank would like you to have a meeting updating the status. These meeting include stakeholder meetings, Kickoff meetings, Design meetings, and Delivery meetings. Any other meeting would be good to schedule as you so desire. With the meeting you will determine you when and how often you should meet. </li></ul></li><li>Section 4: Deliverable<ul><li>This section should include all deliverable that you will provide as proof of progress and status. </li><li>These meeting can include the following: Design Document, Bug/Peer Reviews, Features, Bug List, Test (Unit/Regression)</li></ul></li><li>Section 5: Checkpoints<ul><li>There are some events that need to be done in order to proceed to the next phase or maturity of a project. </li><li>Identify at least 5 different checkpoints. </li></ul></li><li>Section 6: Schedule<ul><li>Put all the Meetings, Deliverables and Checkpoints  in to a 3-month schedule. </li></ul></li></ul>\n",
      "  <h2>Submission</h2>\n",
      "\t<p> As you finish the B.A.N.K.’s Small Business Plan, contemplate on the viability of your plan. Imagine that you really are the owner of this company and you have a significant financial stake in the outcome of this contract. </p><p>Strength of the Plan: Do you feel this plan is viable? Do you think it will make the best use of your available resources? </p><p>Weakness of the Plan: Are there risks this methodology introduces or fails to address?</p>\n",
      "\t<h2>Rubric</h2><p>Your grade for this activity will be according to the following rubric:</p><table><tr><td><p><strong> </strong></p></td><td><p><strong>Exceptional<br />100%</strong></p></td><td><p><strong>Good<br />90%</strong></p></td><td><p><strong>Acceptable<br />70%</strong></p></td><td><p><strong>Developing<br />50%</strong></p></td><td><p><strong>Missing<br />0%</strong></p></td></tr><tr><td><p><strong>Plan (80%)</strong></p></td><td><p><strong>Additional content is present found in reading or from experience (marked green/bold)</strong></p></td><td><p><strong>Additional suggested content is present (marked as red/bold)</strong></p></td><td><p>All content in assignment is present</p></td><td><p>All sections are present</p></td><td><p>One or more missing sections (Title, 1, 2, 3, 4, 5 or 6 is missing)</p></td></tr><tr><td><p><strong>Make it Your Own/Reflection<br />10%</strong></p></td><td><p>The reflection cuts to the heart of the strengths and weaknesses of the development methodology.</p></td><td><p>The strengths and weakness of reflect to the methodology and are clearly communicated.</p></td><td><p>Both and more than 1 strength and weakness of the plan </p></td><td><p>Identified 1 strength or 1 weakness of the plan</p></td><td><p>No reflection is present, but just a self-assessment. </p></td></tr><tr><td><p><strong>Professionalism<br />10%</strong></p></td><td><p>The paper is easy to read and ideas are clearly communicated.</p></td><td><p>Everything is properly cited, there are no grammar or spelling errors, and writing style is &quot;professional.&quot;</p></td><td><p>One instance of a spelling error, grammar error, incomplete citation, overly verbose, poor formatting, or poor writing.</p></td><td><p>A citation is missing where one is needed (plagiarism alert!).</p></td><td><p>Gross spelling/grammar errors or other aspects of the writing that make the paper difficult to read.</p></td></tr><p>Your grade for this activity will be according to the following rubric:</p><table><tr><td><p><strong> </strong></p></td><td><p><strong>Exceptional<br />100%</strong></p></td><td><p><strong>Good<br />90%</strong></p></td><td><p><strong>Acceptable<br />70%</strong></p></td><td><p><strong>Developing<br />50%</strong></p></td><td><p><strong>Missing<br />0%</strong></p></td></tr><tr><td><p><strong>Plan (80%)</strong></p></td><td><p><strong>Additional content is present found in reading or from experience (marked green/bold)</strong></p></td><td><p><strong>Additional suggested content is present (marked as red/bold)</strong></p></td><td><p>All content in assignment is present</p></td><td><p>All sections are present</p></td><td><p>One or more missing sections (Title, 1, 2, 3, 4, 5 or 6 is missing)</p></td></tr><tr><td><p><strong>Make it Your Own/Reflection<br />10%</strong></p></td><td><p>The reflection cuts to the heart of the strengths and weaknesses of the development methodology.</p></td><td><p>The strengths and weakness of reflect to the methodology and are clearly communicated.</p></td><td><p>Both and more than 1 strength and weakness of the plan </p></td><td><p>Identified 1 strength or 1 weakness of the plan</p></td><td><p>No reflection is present, but just a self-assessment. </p></td></tr><tr><td><p><strong>Professionalism<br />10%</strong></p></td><td><p>The paper is easy to read and ideas are clearly communicated.</p></td><td><p>Everything is properly cited, there are no grammar or spelling errors, and writing style is &quot;professional.&quot;</p></td><td><p>One instance of a spelling error, grammar error, incomplete citation, overly verbose, poor formatting, or poor writing.</p></td><td><p>A citation is missing where one is needed (plagiarism alert!).</p></td><td><p>Gross spelling/grammar errors or other aspects of the writing that make the paper difficult to read.</p></td></tr><p>Your grade for this activity will be according to the following rubric:</p><table><tr><td><p><strong> </strong></p></td><td><p><strong>Exceptional<br />100%</strong></p></td><td><p><strong>Good<br />90%</strong></p></td><td><p><strong>Acceptable<br />70%</strong></p></td><td><p><strong>Developing<br />50%</strong></p></td><td><p><strong>Missing<br />0%</strong></p></td></tr><tr><td><p><strong>Plan (80%)</strong></p></td><td><p><strong>Additional content is present found in reading or from experience (marked green/bold)</strong></p></td><td><p><strong>Additional suggested content is present (marked as red/bold)</strong></p></td><td><p>All content in assignment is present</p></td><td><p>All sections are present</p></td><td><p>One or more missing sections (Title, 1, 2, 3, 4, 5 or 6 is missing)</p></td></tr><tr><td><p><strong>Make it Your Own/Reflection<br />10%</strong></p></td><td><p>The reflection cuts to the heart of the strengths and weaknesses of the development methodology.</p></td><td><p>The strengths and weakness of reflect to the methodology and are clearly communicated.</p></td><td><p>Both and more than 1 strength and weakness of the plan </p></td><td><p>Identified 1 strength or 1 weakness of the plan</p></td><td><p>No reflection is present, but just a self-assessment. </p></td></tr><tr><td><p><strong>Professionalism<br />10%</strong></p></td><td><p>The paper is easy to read and ideas are clearly communicated.</p></td><td><p>Everything is properly cited, there are no grammar or spelling errors, and writing style is &quot;professional.&quot;</p></td><td><p>One instance of a spelling error, grammar error, incomplete citation, overly verbose, poor formatting, or poor writing.</p></td><td><p>A citation is missing where one is needed (plagiarism alert!).</p></td><td><p>Gross spelling/grammar errors or other aspects of the writing that make the paper difficult to read.</p></td></tr>\n",
      "</article>\n",
      "\t\n",
      "</body>\n",
      "</html>\n",
      "\n"
     ]
    }
   ],
   "source": [
    "proveTemplateList = proveTemplateList.replace(\"<p>Description</p>\", overviewString)\n",
    "proveTemplateList = proveTemplateList.replace(\"<p>Story</p>\", backstoryString)\n",
    "proveTemplateList = proveTemplateList.replace(\"<p>&nbsp;</p>\", instructionsString, 1)\n",
    "proveTemplateList = proveTemplateList.replace(\"<p>&nbsp;</p>\", makeityourownString, 1)\n",
    "proveTemplateList = proveTemplateList.replace(\"<p>&nbsp;</p>\", submissionString)\n",
    "proveTemplateList = proveTemplateList.replace(\"<h2>Rubric</h2>\", \"<h2>Rubric</h2>\" + rubricString)\n",
    "proveTemplateList = proveTemplateList.replace(\"M0X\", \"01\")\n",
    "\n",
    "print(proveTemplateList)"
   ]
  },
  {
   "cell_type": "code",
   "execution_count": 28,
   "metadata": {},
   "outputs": [],
   "source": [
    "newHTMLFile = \"CSE270_Prove01.html\"\n",
    "\n",
    "file = open(newHTMLFile, 'wb')\n",
    "file.write(proveTemplateList.encode())\n",
    "file.close()"
   ]
  },
  {
   "cell_type": "code",
   "execution_count": null,
   "metadata": {},
   "outputs": [],
   "source": []
  }
 ],
 "metadata": {
  "kernelspec": {
   "display_name": "Python 3",
   "language": "python",
   "name": "python3"
  },
  "language_info": {
   "codemirror_mode": {
    "name": "ipython",
    "version": 3
   },
   "file_extension": ".py",
   "mimetype": "text/x-python",
   "name": "python",
   "nbconvert_exporter": "python",
   "pygments_lexer": "ipython3",
   "version": "3.8.3"
  }
 },
 "nbformat": 4,
 "nbformat_minor": 4
}
