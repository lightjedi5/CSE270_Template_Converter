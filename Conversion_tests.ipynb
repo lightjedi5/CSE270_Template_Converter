{
 "cells": [
  {
   "cell_type": "code",
   "execution_count": null,
   "metadata": {},
   "outputs": [],
   "source": [
    "def retrievePrepareText(html):\n",
    "    #accepts html document as a string\n",
    "    #this function finds where the prepare text begins and ends. It returns the text as a string\n",
    "    \n",
    "    #this part finds the index of the begining of the text and the index of the end of the text\n",
    "    Beginstring = \"<strong>Prepare\" \n",
    "    result = html.find(Beginstring)\n",
    "    Esubstring = \"Ponder assignment.\"\n",
    "    EndResult = html.find(Esubstring, result)\n",
    "    \n",
    "    prepareString = \"\"\n",
    "    for i in html[result:EndResult + len(Esubstring)]:\n",
    "        prepareString += i\n",
    "    \n",
    "    return prepareString\n",
    "    "
   ]
  },
  {
   "cell_type": "code",
   "execution_count": null,
   "metadata": {},
   "outputs": [],
   "source": [
    "def retrieveProveText(html):\n",
    "    #this function finds where the prove text begins and ends. It returns the text as a string\n",
    "    #It accepts the html document as a string\n",
    "    \n",
    "    #this part finds the index of the begining of the text and the index of the end of the text\n",
    "    Beginstring = \"<strong>Prove:\"\n",
    "    result = html.find(Beginstring)\n",
    "    Esubstring = \"</table>\"\n",
    "    EndResult = html.find(Esubstring, result)\n",
    "    \n",
    "    #this is were the text is spliced from the orginal string so that it only contains\n",
    "    #what is needed for the proveText\n",
    "    proveString = \"\"\n",
    "    #the + len(Esubstring) is so that the ending string is also included\n",
    "    for i in html[result:EndResult + len(Esubstring)]:\n",
    "        proveString += i\n",
    "    \n",
    "    return proveString\n"
   ]
  },
  {
   "cell_type": "code",
   "execution_count": null,
   "metadata": {},
   "outputs": [],
   "source": []
  }
 ],
 "metadata": {
  "kernelspec": {
   "display_name": "Python 3",
   "language": "python",
   "name": "python3"
  },
  "language_info": {
   "codemirror_mode": {
    "name": "ipython",
    "version": 3
   },
   "file_extension": ".py",
   "mimetype": "text/x-python",
   "name": "python",
   "nbconvert_exporter": "python",
   "pygments_lexer": "ipython3",
   "version": "3.8.3"
  }
 },
 "nbformat": 4,
 "nbformat_minor": 4
}
